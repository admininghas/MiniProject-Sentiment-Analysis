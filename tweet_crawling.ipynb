{
 "cells": [
  {
   "cell_type": "code",
   "execution_count": 30,
   "metadata": {
    "collapsed": true
   },
   "outputs": [],
   "source": [
    "import tweepy as tw\n",
    "import pandas as pd\n",
    "import json\n",
    "import numpy as np"
   ]
  },
  {
   "cell_type": "code",
   "execution_count": 2,
   "metadata": {
    "collapsed": true
   },
   "outputs": [],
   "source": [
    "access_token = 'your access token'\n",
    "access_token_secret = 'your access token secret'\n",
    "consumer_key = 'your consumer key'\n",
    "consumer_secret = 'your consumer secret'"
   ]
  },
  {
   "cell_type": "code",
   "execution_count": 3,
   "metadata": {
    "collapsed": true
   },
   "outputs": [],
   "source": [
    "auth = tw.OAuthHandler(consumer_key, consumer_secret)\n",
    "auth.set_access_token(access_token, access_token_secret)\n",
    "api = tw.API(auth, wait_on_rate_limit=True)"
   ]
  },
  {
   "cell_type": "code",
   "execution_count": 4,
   "metadata": {
    "collapsed": true
   },
   "outputs": [],
   "source": [
    "search_words = 'doctor strange'"
   ]
  },
  {
   "cell_type": "code",
   "execution_count": 5,
   "metadata": {
    "collapsed": true
   },
   "outputs": [],
   "source": [
    "tweets = tw.Cursor(api.search,\n",
    "                   q=search_words,\n",
    "                   lang='en',\n",
    "                   result_type='recent',\n",
    "                   tweet_mode='extended').items(1000)"
   ]
  },
  {
   "cell_type": "code",
   "execution_count": 6,
   "metadata": {
    "collapsed": true
   },
   "outputs": [],
   "source": [
    "all_tweets = []\n",
    "\n",
    "for tweet in tweets:\n",
    "    all_tweets.append(tweet)"
   ]
  },
  {
   "cell_type": "code",
   "execution_count": 7,
   "metadata": {
    "collapsed": true
   },
   "outputs": [],
   "source": [
    "# Simpan tweets ke dalam file json\n",
    "def store_tweets(alltweets):\n",
    "    twt_list = []\n",
    "    for tweet in alltweets:\n",
    "        tweet_inf = dict()\n",
    "        tweet_inf['text'] = tweet.full_text\n",
    "        tweet_inf['created_at'] = tweet.created_at.strftime('%Y-%m-%d %H:%M:%S')\n",
    "        tweet_inf['id_str'] = tweet.id_str\n",
    "        tweet_inf['retweet_count'] = tweet.retweet_count\n",
    "        tweet_inf['favorite_count'] = tweet.favorite_count\n",
    "        tweet_inf['in_reply_to_screen_name'] = tweet.in_reply_to_screen_name\n",
    "        user_dic = tweet._json['user']\n",
    "        tweet_inf['followers_count'] = user_dic['followers_count']\n",
    "        tweet_inf['screen_name'] = user_dic['screen_name']\n",
    "        \n",
    "        twt_list.append(tweet_inf)\n",
    "    file_des = open('doctorstrange.json', 'w')\n",
    "    json.dump(twt_list, file_des, indent=4, sort_keys=True)\n",
    "    file_des.close()"
   ]
  },
  {
   "cell_type": "code",
   "execution_count": 8,
   "metadata": {
    "collapsed": true
   },
   "outputs": [],
   "source": [
    "store_tweets(all_tweets)"
   ]
  }
 ],
 "metadata": {
  "kernelspec": {
   "display_name": "Python 3",
   "language": "python",
   "name": "python3"
  },
  "language_info": {
   "codemirror_mode": {
    "name": "ipython",
    "version": 3
   },
   "file_extension": ".py",
   "mimetype": "text/x-python",
   "name": "python",
   "nbconvert_exporter": "python",
   "pygments_lexer": "ipython3",
   "version": "3.7.0"
  }
 },
 "nbformat": 4,
 "nbformat_minor": 2
}

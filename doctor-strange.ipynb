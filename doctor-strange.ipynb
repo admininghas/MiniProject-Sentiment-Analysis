{
 "cells": [
  {
   "cell_type": "markdown",
   "metadata": {},
   "source": [
    "### Analisis Sentimen Tweetizen"
   ]
  },
  {
   "cell_type": "markdown",
   "metadata": {},
   "source": [
    "Load dulu data .json yang sudah disimpan"
   ]
  },
  {
   "cell_type": "code",
   "execution_count": 113,
   "metadata": {
    "collapsed": true
   },
   "outputs": [],
   "source": [
    "data = pd.read_json('doctorstrange.json')\n",
    "data = pd.DataFrame(data=[tweet for tweet in data['text']], columns=['Tweet'])"
   ]
  },
  {
   "cell_type": "code",
   "execution_count": 114,
   "metadata": {},
   "outputs": [
    {
     "data": {
      "text/html": [
       "<div>\n",
       "<style scoped>\n",
       "    .dataframe tbody tr th:only-of-type {\n",
       "        vertical-align: middle;\n",
       "    }\n",
       "\n",
       "    .dataframe tbody tr th {\n",
       "        vertical-align: top;\n",
       "    }\n",
       "\n",
       "    .dataframe thead th {\n",
       "        text-align: right;\n",
       "    }\n",
       "</style>\n",
       "<table border=\"1\" class=\"dataframe\">\n",
       "  <thead>\n",
       "    <tr style=\"text-align: right;\">\n",
       "      <th></th>\n",
       "      <th>Tweet</th>\n",
       "    </tr>\n",
       "  </thead>\n",
       "  <tbody>\n",
       "    <tr>\n",
       "      <th>0</th>\n",
       "      <td>RT @fadecorner: Wanda when she was chasing Doc...</td>\n",
       "    </tr>\n",
       "    <tr>\n",
       "      <th>1</th>\n",
       "      <td>RT @MCU_Direct: Official new #MultiverseOfMadn...</td>\n",
       "    </tr>\n",
       "    <tr>\n",
       "      <th>2</th>\n",
       "      <td>RT @PopCrave: New posters of Elizabeth Olsen a...</td>\n",
       "    </tr>\n",
       "    <tr>\n",
       "      <th>3</th>\n",
       "      <td>RT @MCU_Direct: #MultiverseOfMadness director ...</td>\n",
       "    </tr>\n",
       "    <tr>\n",
       "      <th>4</th>\n",
       "      <td>RT @SupermanEnjoyer: Doctor Strange is the bes...</td>\n",
       "    </tr>\n",
       "    <tr>\n",
       "      <th>...</th>\n",
       "      <td>...</td>\n",
       "    </tr>\n",
       "    <tr>\n",
       "      <th>995</th>\n",
       "      <td>\"I love you in every universe\" - Doctor Strang...</td>\n",
       "    </tr>\n",
       "    <tr>\n",
       "      <th>996</th>\n",
       "      <td>RT @ironfamiIy: doctor strange: stephen's supe...</td>\n",
       "    </tr>\n",
       "    <tr>\n",
       "      <th>997</th>\n",
       "      <td>RT @Ayatay221: Benedict Cumberbatch being phot...</td>\n",
       "    </tr>\n",
       "    <tr>\n",
       "      <th>998</th>\n",
       "      <td>doctor strange in the multiverse of madness (2...</td>\n",
       "    </tr>\n",
       "    <tr>\n",
       "      <th>999</th>\n",
       "      <td>RT @MarvelStudios: Who are you in this vast Mu...</td>\n",
       "    </tr>\n",
       "  </tbody>\n",
       "</table>\n",
       "<p>1000 rows × 1 columns</p>\n",
       "</div>"
      ],
      "text/plain": [
       "                                                 Tweet\n",
       "0    RT @fadecorner: Wanda when she was chasing Doc...\n",
       "1    RT @MCU_Direct: Official new #MultiverseOfMadn...\n",
       "2    RT @PopCrave: New posters of Elizabeth Olsen a...\n",
       "3    RT @MCU_Direct: #MultiverseOfMadness director ...\n",
       "4    RT @SupermanEnjoyer: Doctor Strange is the bes...\n",
       "..                                                 ...\n",
       "995  \"I love you in every universe\" - Doctor Strang...\n",
       "996  RT @ironfamiIy: doctor strange: stephen's supe...\n",
       "997  RT @Ayatay221: Benedict Cumberbatch being phot...\n",
       "998  doctor strange in the multiverse of madness (2...\n",
       "999  RT @MarvelStudios: Who are you in this vast Mu...\n",
       "\n",
       "[1000 rows x 1 columns]"
      ]
     },
     "execution_count": 114,
     "metadata": {},
     "output_type": "execute_result"
    }
   ],
   "source": [
    "data"
   ]
  },
  {
   "cell_type": "markdown",
   "metadata": {},
   "source": [
    "Bersihkan data dari simbol-simbol dan teks yang tidak diinginkan"
   ]
  },
  {
   "cell_type": "markdown",
   "metadata": {},
   "source": [
    "Buat satu kolom lagi dalam dataframe untuk hasil tweets yang sudah dibersihkan/dinormalisasi"
   ]
  },
  {
   "cell_type": "code",
   "execution_count": 116,
   "metadata": {},
   "outputs": [
    {
     "data": {
      "text/plain": [
       "'wanda when she was chasing doctor strange thru that underground corridor  '"
      ]
     },
     "execution_count": 116,
     "metadata": {},
     "output_type": "execute_result"
    }
   ],
   "source": [
    "data['Normalize'] = data.apply(CleanUpTweet, axis=1)\n",
    "\n",
    "data['Normalize'][0]"
   ]
  },
  {
   "cell_type": "markdown",
   "metadata": {},
   "source": [
    "Mari kita cek 5 baris data pertama, apakah sudah bersih?"
   ]
  },
  {
   "cell_type": "code",
   "execution_count": 117,
   "metadata": {},
   "outputs": [
    {
     "data": {
      "text/html": [
       "<div>\n",
       "<style scoped>\n",
       "    .dataframe tbody tr th:only-of-type {\n",
       "        vertical-align: middle;\n",
       "    }\n",
       "\n",
       "    .dataframe tbody tr th {\n",
       "        vertical-align: top;\n",
       "    }\n",
       "\n",
       "    .dataframe thead th {\n",
       "        text-align: right;\n",
       "    }\n",
       "</style>\n",
       "<table border=\"1\" class=\"dataframe\">\n",
       "  <thead>\n",
       "    <tr style=\"text-align: right;\">\n",
       "      <th></th>\n",
       "      <th>Tweet</th>\n",
       "      <th>Normalize</th>\n",
       "    </tr>\n",
       "  </thead>\n",
       "  <tbody>\n",
       "    <tr>\n",
       "      <th>0</th>\n",
       "      <td>RT @fadecorner: Wanda when she was chasing Doc...</td>\n",
       "      <td>wanda when she was chasing doctor strange thru...</td>\n",
       "    </tr>\n",
       "    <tr>\n",
       "      <th>1</th>\n",
       "      <td>RT @MCU_Direct: Official new #MultiverseOfMadn...</td>\n",
       "      <td>official new multiverseofmadness posters for d...</td>\n",
       "    </tr>\n",
       "    <tr>\n",
       "      <th>2</th>\n",
       "      <td>RT @PopCrave: New posters of Elizabeth Olsen a...</td>\n",
       "      <td>new posters of elizabeth olsen and benedict cu...</td>\n",
       "    </tr>\n",
       "    <tr>\n",
       "      <th>3</th>\n",
       "      <td>RT @MCU_Direct: #MultiverseOfMadness director ...</td>\n",
       "      <td>multiverseofmadness director sam raimi didn t ...</td>\n",
       "    </tr>\n",
       "    <tr>\n",
       "      <th>4</th>\n",
       "      <td>RT @SupermanEnjoyer: Doctor Strange is the bes...</td>\n",
       "      <td>doctor strange is the best mcu origin film by ...</td>\n",
       "    </tr>\n",
       "  </tbody>\n",
       "</table>\n",
       "</div>"
      ],
      "text/plain": [
       "                                               Tweet  \\\n",
       "0  RT @fadecorner: Wanda when she was chasing Doc...   \n",
       "1  RT @MCU_Direct: Official new #MultiverseOfMadn...   \n",
       "2  RT @PopCrave: New posters of Elizabeth Olsen a...   \n",
       "3  RT @MCU_Direct: #MultiverseOfMadness director ...   \n",
       "4  RT @SupermanEnjoyer: Doctor Strange is the bes...   \n",
       "\n",
       "                                           Normalize  \n",
       "0  wanda when she was chasing doctor strange thru...  \n",
       "1  official new multiverseofmadness posters for d...  \n",
       "2  new posters of elizabeth olsen and benedict cu...  \n",
       "3  multiverseofmadness director sam raimi didn t ...  \n",
       "4  doctor strange is the best mcu origin film by ...  "
      ]
     },
     "execution_count": 117,
     "metadata": {},
     "output_type": "execute_result"
    }
   ],
   "source": [
    "data.head()"
   ]
  },
  {
   "cell_type": "markdown",
   "metadata": {},
   "source": [
    "Bagaimana dengan 5 baris terakhir?"
   ]
  },
  {
   "cell_type": "code",
   "execution_count": 118,
   "metadata": {},
   "outputs": [
    {
     "data": {
      "text/html": [
       "<div>\n",
       "<style scoped>\n",
       "    .dataframe tbody tr th:only-of-type {\n",
       "        vertical-align: middle;\n",
       "    }\n",
       "\n",
       "    .dataframe tbody tr th {\n",
       "        vertical-align: top;\n",
       "    }\n",
       "\n",
       "    .dataframe thead th {\n",
       "        text-align: right;\n",
       "    }\n",
       "</style>\n",
       "<table border=\"1\" class=\"dataframe\">\n",
       "  <thead>\n",
       "    <tr style=\"text-align: right;\">\n",
       "      <th></th>\n",
       "      <th>Tweet</th>\n",
       "      <th>Normalize</th>\n",
       "    </tr>\n",
       "  </thead>\n",
       "  <tbody>\n",
       "    <tr>\n",
       "      <th>995</th>\n",
       "      <td>\"I love you in every universe\" - Doctor Strang...</td>\n",
       "      <td>i love you in every universe    doctor strang...</td>\n",
       "    </tr>\n",
       "    <tr>\n",
       "      <th>996</th>\n",
       "      <td>RT @ironfamiIy: doctor strange: stephen's supe...</td>\n",
       "      <td>doctor strange  stephen s superhero eradoctor ...</td>\n",
       "    </tr>\n",
       "    <tr>\n",
       "      <th>997</th>\n",
       "      <td>RT @Ayatay221: Benedict Cumberbatch being phot...</td>\n",
       "      <td>benedict cumberbatch being photographed for do...</td>\n",
       "    </tr>\n",
       "    <tr>\n",
       "      <th>998</th>\n",
       "      <td>doctor strange in the multiverse of madness (2...</td>\n",
       "      <td>doctor strange in the multiverse of madness   ...</td>\n",
       "    </tr>\n",
       "    <tr>\n",
       "      <th>999</th>\n",
       "      <td>RT @MarvelStudios: Who are you in this vast Mu...</td>\n",
       "      <td>who are you in this vast multiverse    don t m...</td>\n",
       "    </tr>\n",
       "  </tbody>\n",
       "</table>\n",
       "</div>"
      ],
      "text/plain": [
       "                                                 Tweet  \\\n",
       "995  \"I love you in every universe\" - Doctor Strang...   \n",
       "996  RT @ironfamiIy: doctor strange: stephen's supe...   \n",
       "997  RT @Ayatay221: Benedict Cumberbatch being phot...   \n",
       "998  doctor strange in the multiverse of madness (2...   \n",
       "999  RT @MarvelStudios: Who are you in this vast Mu...   \n",
       "\n",
       "                                             Normalize  \n",
       "995   i love you in every universe    doctor strang...  \n",
       "996  doctor strange  stephen s superhero eradoctor ...  \n",
       "997  benedict cumberbatch being photographed for do...  \n",
       "998  doctor strange in the multiverse of madness   ...  \n",
       "999  who are you in this vast multiverse    don t m...  "
      ]
     },
     "execution_count": 118,
     "metadata": {},
     "output_type": "execute_result"
    }
   ],
   "source": [
    "data.tail()"
   ]
  },
  {
   "cell_type": "markdown",
   "metadata": {},
   "source": [
    "ya, sudah bersih.. lanjut"
   ]
  },
  {
   "cell_type": "markdown",
   "metadata": {},
   "source": [
    "Mari kita bersihkan stopwords (kata hubung), disini saya menggunakan corpus stopwords dari nltk"
   ]
  },
  {
   "cell_type": "code",
   "execution_count": 120,
   "metadata": {},
   "outputs": [
    {
     "data": {
      "text/html": [
       "<div>\n",
       "<style scoped>\n",
       "    .dataframe tbody tr th:only-of-type {\n",
       "        vertical-align: middle;\n",
       "    }\n",
       "\n",
       "    .dataframe tbody tr th {\n",
       "        vertical-align: top;\n",
       "    }\n",
       "\n",
       "    .dataframe thead th {\n",
       "        text-align: right;\n",
       "    }\n",
       "</style>\n",
       "<table border=\"1\" class=\"dataframe\">\n",
       "  <thead>\n",
       "    <tr style=\"text-align: right;\">\n",
       "      <th></th>\n",
       "      <th>Tweet</th>\n",
       "      <th>Normalize</th>\n",
       "      <th>New</th>\n",
       "    </tr>\n",
       "  </thead>\n",
       "  <tbody>\n",
       "    <tr>\n",
       "      <th>0</th>\n",
       "      <td>RT @fadecorner: Wanda when she was chasing Doc...</td>\n",
       "      <td>wanda when she was chasing doctor strange thru...</td>\n",
       "      <td>wanda chasing doctor strange thru underground ...</td>\n",
       "    </tr>\n",
       "    <tr>\n",
       "      <th>1</th>\n",
       "      <td>RT @MCU_Direct: Official new #MultiverseOfMadn...</td>\n",
       "      <td>official new multiverseofmadness posters for d...</td>\n",
       "      <td>official new multiverseofmadness posters docto...</td>\n",
       "    </tr>\n",
       "    <tr>\n",
       "      <th>2</th>\n",
       "      <td>RT @PopCrave: New posters of Elizabeth Olsen a...</td>\n",
       "      <td>new posters of elizabeth olsen and benedict cu...</td>\n",
       "      <td>new posters elizabeth olsen benedict cumberbat...</td>\n",
       "    </tr>\n",
       "    <tr>\n",
       "      <th>3</th>\n",
       "      <td>RT @MCU_Direct: #MultiverseOfMadness director ...</td>\n",
       "      <td>multiverseofmadness director sam raimi didn t ...</td>\n",
       "      <td>multiverseofmadness director sam raimi origina...</td>\n",
       "    </tr>\n",
       "    <tr>\n",
       "      <th>4</th>\n",
       "      <td>RT @SupermanEnjoyer: Doctor Strange is the bes...</td>\n",
       "      <td>doctor strange is the best mcu origin film by ...</td>\n",
       "      <td>doctor strange best mcu origin film mile</td>\n",
       "    </tr>\n",
       "  </tbody>\n",
       "</table>\n",
       "</div>"
      ],
      "text/plain": [
       "                                               Tweet  \\\n",
       "0  RT @fadecorner: Wanda when she was chasing Doc...   \n",
       "1  RT @MCU_Direct: Official new #MultiverseOfMadn...   \n",
       "2  RT @PopCrave: New posters of Elizabeth Olsen a...   \n",
       "3  RT @MCU_Direct: #MultiverseOfMadness director ...   \n",
       "4  RT @SupermanEnjoyer: Doctor Strange is the bes...   \n",
       "\n",
       "                                           Normalize  \\\n",
       "0  wanda when she was chasing doctor strange thru...   \n",
       "1  official new multiverseofmadness posters for d...   \n",
       "2  new posters of elizabeth olsen and benedict cu...   \n",
       "3  multiverseofmadness director sam raimi didn t ...   \n",
       "4  doctor strange is the best mcu origin film by ...   \n",
       "\n",
       "                                                 New  \n",
       "0  wanda chasing doctor strange thru underground ...  \n",
       "1  official new multiverseofmadness posters docto...  \n",
       "2  new posters elizabeth olsen benedict cumberbat...  \n",
       "3  multiverseofmadness director sam raimi origina...  \n",
       "4           doctor strange best mcu origin film mile  "
      ]
     },
     "execution_count": 120,
     "metadata": {},
     "output_type": "execute_result"
    }
   ],
   "source": [
    "data.head()"
   ]
  },
  {
   "cell_type": "markdown",
   "metadata": {},
   "source": [
    "Lanjut kita kalkulasikan nilai Subjektivitas dan Polaritas dari setiap kalimat"
   ]
  },
  {
   "cell_type": "markdown",
   "metadata": {},
   "source": [
    "**Subjektivitas** mengukur jumlah pendapat pribadi dan informasi faktual yang terkandung dalam teks.  \n",
    "Subjektivitas bernilai float pada kisaran [0,1] dimana nilai yang mendekati 1 berarti teks berisi opini pribadi dan nilai yang mendekati 0 berisi informasi faktual."
   ]
  },
  {
   "cell_type": "markdown",
   "metadata": {},
   "source": [
    "**Polaritas** mengukur seberapa positif atau negatif sebuah teks.  \n",
    "Polaritas bernilai float pada kisaran [-1,1] dimana 1 berarti pernyataan positif dan -1 berarti pernyataan negatif."
   ]
  },
  {
   "cell_type": "code",
   "execution_count": 122,
   "metadata": {},
   "outputs": [
    {
     "data": {
      "text/html": [
       "<div>\n",
       "<style scoped>\n",
       "    .dataframe tbody tr th:only-of-type {\n",
       "        vertical-align: middle;\n",
       "    }\n",
       "\n",
       "    .dataframe tbody tr th {\n",
       "        vertical-align: top;\n",
       "    }\n",
       "\n",
       "    .dataframe thead th {\n",
       "        text-align: right;\n",
       "    }\n",
       "</style>\n",
       "<table border=\"1\" class=\"dataframe\">\n",
       "  <thead>\n",
       "    <tr style=\"text-align: right;\">\n",
       "      <th></th>\n",
       "      <th>Tweet</th>\n",
       "      <th>Normalize</th>\n",
       "      <th>New</th>\n",
       "      <th>Subjectivity</th>\n",
       "      <th>Polarity</th>\n",
       "    </tr>\n",
       "  </thead>\n",
       "  <tbody>\n",
       "    <tr>\n",
       "      <th>0</th>\n",
       "      <td>RT @fadecorner: Wanda when she was chasing Doc...</td>\n",
       "      <td>wanda when she was chasing doctor strange thru...</td>\n",
       "      <td>wanda chasing doctor strange thru underground ...</td>\n",
       "      <td>0.150000</td>\n",
       "      <td>-0.050000</td>\n",
       "    </tr>\n",
       "    <tr>\n",
       "      <th>1</th>\n",
       "      <td>RT @MCU_Direct: Official new #MultiverseOfMadn...</td>\n",
       "      <td>official new multiverseofmadness posters for d...</td>\n",
       "      <td>official new multiverseofmadness posters docto...</td>\n",
       "      <td>0.454545</td>\n",
       "      <td>0.136364</td>\n",
       "    </tr>\n",
       "    <tr>\n",
       "      <th>2</th>\n",
       "      <td>RT @PopCrave: New posters of Elizabeth Olsen a...</td>\n",
       "      <td>new posters of elizabeth olsen and benedict cu...</td>\n",
       "      <td>new posters elizabeth olsen benedict cumberbat...</td>\n",
       "      <td>0.302273</td>\n",
       "      <td>0.043182</td>\n",
       "    </tr>\n",
       "    <tr>\n",
       "      <th>3</th>\n",
       "      <td>RT @MCU_Direct: #MultiverseOfMadness director ...</td>\n",
       "      <td>multiverseofmadness director sam raimi didn t ...</td>\n",
       "      <td>multiverseofmadness director sam raimi origina...</td>\n",
       "      <td>0.433333</td>\n",
       "      <td>0.041667</td>\n",
       "    </tr>\n",
       "    <tr>\n",
       "      <th>4</th>\n",
       "      <td>RT @SupermanEnjoyer: Doctor Strange is the bes...</td>\n",
       "      <td>doctor strange is the best mcu origin film by ...</td>\n",
       "      <td>doctor strange best mcu origin film mile</td>\n",
       "      <td>0.225000</td>\n",
       "      <td>0.475000</td>\n",
       "    </tr>\n",
       "  </tbody>\n",
       "</table>\n",
       "</div>"
      ],
      "text/plain": [
       "                                               Tweet  \\\n",
       "0  RT @fadecorner: Wanda when she was chasing Doc...   \n",
       "1  RT @MCU_Direct: Official new #MultiverseOfMadn...   \n",
       "2  RT @PopCrave: New posters of Elizabeth Olsen a...   \n",
       "3  RT @MCU_Direct: #MultiverseOfMadness director ...   \n",
       "4  RT @SupermanEnjoyer: Doctor Strange is the bes...   \n",
       "\n",
       "                                           Normalize  \\\n",
       "0  wanda when she was chasing doctor strange thru...   \n",
       "1  official new multiverseofmadness posters for d...   \n",
       "2  new posters of elizabeth olsen and benedict cu...   \n",
       "3  multiverseofmadness director sam raimi didn t ...   \n",
       "4  doctor strange is the best mcu origin film by ...   \n",
       "\n",
       "                                                 New  Subjectivity  Polarity  \n",
       "0  wanda chasing doctor strange thru underground ...      0.150000 -0.050000  \n",
       "1  official new multiverseofmadness posters docto...      0.454545  0.136364  \n",
       "2  new posters elizabeth olsen benedict cumberbat...      0.302273  0.043182  \n",
       "3  multiverseofmadness director sam raimi origina...      0.433333  0.041667  \n",
       "4           doctor strange best mcu origin film mile      0.225000  0.475000  "
      ]
     },
     "execution_count": 122,
     "metadata": {},
     "output_type": "execute_result"
    }
   ],
   "source": [
    "data['Subjectivity'] = data['New'].apply(getTextSubjectivity)\n",
    "data['Polarity'] = data['New'].apply(getTextPolarity)\n",
    "data.head()"
   ]
  },
  {
   "cell_type": "code",
   "execution_count": 123,
   "metadata": {},
   "outputs": [
    {
     "data": {
      "text/html": [
       "<div>\n",
       "<style scoped>\n",
       "    .dataframe tbody tr th:only-of-type {\n",
       "        vertical-align: middle;\n",
       "    }\n",
       "\n",
       "    .dataframe tbody tr th {\n",
       "        vertical-align: top;\n",
       "    }\n",
       "\n",
       "    .dataframe thead th {\n",
       "        text-align: right;\n",
       "    }\n",
       "</style>\n",
       "<table border=\"1\" class=\"dataframe\">\n",
       "  <thead>\n",
       "    <tr style=\"text-align: right;\">\n",
       "      <th></th>\n",
       "      <th>Tweet</th>\n",
       "      <th>Normalize</th>\n",
       "      <th>New</th>\n",
       "      <th>Subjectivity</th>\n",
       "      <th>Polarity</th>\n",
       "    </tr>\n",
       "  </thead>\n",
       "  <tbody>\n",
       "    <tr>\n",
       "      <th>995</th>\n",
       "      <td>\"I love you in every universe\" - Doctor Strang...</td>\n",
       "      <td>i love you in every universe    doctor strang...</td>\n",
       "      <td>love every universe doctor strangegrabe yuuuun</td>\n",
       "      <td>0.60</td>\n",
       "      <td>0.50</td>\n",
       "    </tr>\n",
       "    <tr>\n",
       "      <th>996</th>\n",
       "      <td>RT @ironfamiIy: doctor strange: stephen's supe...</td>\n",
       "      <td>doctor strange  stephen s superhero eradoctor ...</td>\n",
       "      <td>doctor strange stephen superhero eradoctor str...</td>\n",
       "      <td>0.15</td>\n",
       "      <td>-0.05</td>\n",
       "    </tr>\n",
       "    <tr>\n",
       "      <th>997</th>\n",
       "      <td>RT @Ayatay221: Benedict Cumberbatch being phot...</td>\n",
       "      <td>benedict cumberbatch being photographed for do...</td>\n",
       "      <td>benedict cumberbatch photographed doctor stran...</td>\n",
       "      <td>0.15</td>\n",
       "      <td>-0.05</td>\n",
       "    </tr>\n",
       "    <tr>\n",
       "      <th>998</th>\n",
       "      <td>doctor strange in the multiverse of madness (2...</td>\n",
       "      <td>doctor strange in the multiverse of madness   ...</td>\n",
       "      <td>doctor strange multiverse madness</td>\n",
       "      <td>0.15</td>\n",
       "      <td>-0.05</td>\n",
       "    </tr>\n",
       "    <tr>\n",
       "      <th>999</th>\n",
       "      <td>RT @MarvelStudios: Who are you in this vast Mu...</td>\n",
       "      <td>who are you in this vast multiverse    don t m...</td>\n",
       "      <td>vast multiverse miss marvel studios doctorstra...</td>\n",
       "      <td>1.00</td>\n",
       "      <td>0.00</td>\n",
       "    </tr>\n",
       "  </tbody>\n",
       "</table>\n",
       "</div>"
      ],
      "text/plain": [
       "                                                 Tweet  \\\n",
       "995  \"I love you in every universe\" - Doctor Strang...   \n",
       "996  RT @ironfamiIy: doctor strange: stephen's supe...   \n",
       "997  RT @Ayatay221: Benedict Cumberbatch being phot...   \n",
       "998  doctor strange in the multiverse of madness (2...   \n",
       "999  RT @MarvelStudios: Who are you in this vast Mu...   \n",
       "\n",
       "                                             Normalize  \\\n",
       "995   i love you in every universe    doctor strang...   \n",
       "996  doctor strange  stephen s superhero eradoctor ...   \n",
       "997  benedict cumberbatch being photographed for do...   \n",
       "998  doctor strange in the multiverse of madness   ...   \n",
       "999  who are you in this vast multiverse    don t m...   \n",
       "\n",
       "                                                   New  Subjectivity  Polarity  \n",
       "995     love every universe doctor strangegrabe yuuuun          0.60      0.50  \n",
       "996  doctor strange stephen superhero eradoctor str...          0.15     -0.05  \n",
       "997  benedict cumberbatch photographed doctor stran...          0.15     -0.05  \n",
       "998                  doctor strange multiverse madness          0.15     -0.05  \n",
       "999  vast multiverse miss marvel studios doctorstra...          1.00      0.00  "
      ]
     },
     "execution_count": 123,
     "metadata": {},
     "output_type": "execute_result"
    }
   ],
   "source": [
    "data.tail()"
   ]
  },
  {
   "cell_type": "code",
   "execution_count": 124,
   "metadata": {},
   "outputs": [
    {
     "data": {
      "text/plain": [
       "'doctor strange multiverse madness'"
      ]
     },
     "execution_count": 124,
     "metadata": {},
     "output_type": "execute_result"
    }
   ],
   "source": [
    "data['New'][998]"
   ]
  },
  {
   "cell_type": "code",
   "execution_count": 126,
   "metadata": {
    "collapsed": true
   },
   "outputs": [],
   "source": [
    "data = data.drop(['Tweet', 'Normalize'], axis=1)"
   ]
  },
  {
   "cell_type": "code",
   "execution_count": 127,
   "metadata": {},
   "outputs": [
    {
     "data": {
      "text/html": [
       "<div>\n",
       "<style scoped>\n",
       "    .dataframe tbody tr th:only-of-type {\n",
       "        vertical-align: middle;\n",
       "    }\n",
       "\n",
       "    .dataframe tbody tr th {\n",
       "        vertical-align: top;\n",
       "    }\n",
       "\n",
       "    .dataframe thead th {\n",
       "        text-align: right;\n",
       "    }\n",
       "</style>\n",
       "<table border=\"1\" class=\"dataframe\">\n",
       "  <thead>\n",
       "    <tr style=\"text-align: right;\">\n",
       "      <th></th>\n",
       "      <th>New</th>\n",
       "      <th>Subjectivity</th>\n",
       "      <th>Polarity</th>\n",
       "      <th>Score</th>\n",
       "    </tr>\n",
       "  </thead>\n",
       "  <tbody>\n",
       "    <tr>\n",
       "      <th>0</th>\n",
       "      <td>wanda chasing doctor strange thru underground ...</td>\n",
       "      <td>0.150000</td>\n",
       "      <td>-0.050000</td>\n",
       "      <td>-1</td>\n",
       "    </tr>\n",
       "    <tr>\n",
       "      <th>1</th>\n",
       "      <td>official new multiverseofmadness posters docto...</td>\n",
       "      <td>0.454545</td>\n",
       "      <td>0.136364</td>\n",
       "      <td>1</td>\n",
       "    </tr>\n",
       "    <tr>\n",
       "      <th>2</th>\n",
       "      <td>new posters elizabeth olsen benedict cumberbat...</td>\n",
       "      <td>0.302273</td>\n",
       "      <td>0.043182</td>\n",
       "      <td>1</td>\n",
       "    </tr>\n",
       "    <tr>\n",
       "      <th>3</th>\n",
       "      <td>multiverseofmadness director sam raimi origina...</td>\n",
       "      <td>0.433333</td>\n",
       "      <td>0.041667</td>\n",
       "      <td>1</td>\n",
       "    </tr>\n",
       "    <tr>\n",
       "      <th>4</th>\n",
       "      <td>doctor strange best mcu origin film mile</td>\n",
       "      <td>0.225000</td>\n",
       "      <td>0.475000</td>\n",
       "      <td>1</td>\n",
       "    </tr>\n",
       "  </tbody>\n",
       "</table>\n",
       "</div>"
      ],
      "text/plain": [
       "                                                 New  Subjectivity  Polarity  \\\n",
       "0  wanda chasing doctor strange thru underground ...      0.150000 -0.050000   \n",
       "1  official new multiverseofmadness posters docto...      0.454545  0.136364   \n",
       "2  new posters elizabeth olsen benedict cumberbat...      0.302273  0.043182   \n",
       "3  multiverseofmadness director sam raimi origina...      0.433333  0.041667   \n",
       "4           doctor strange best mcu origin film mile      0.225000  0.475000   \n",
       "\n",
       "   Score  \n",
       "0     -1  \n",
       "1      1  \n",
       "2      1  \n",
       "3      1  \n",
       "4      1  "
      ]
     },
     "execution_count": 127,
     "metadata": {},
     "output_type": "execute_result"
    }
   ],
   "source": [
    "data['Score'] = data['Polarity'].apply(getScore)\n",
    "data.head()"
   ]
  },
  {
   "cell_type": "code",
   "execution_count": 128,
   "metadata": {},
   "outputs": [
    {
     "data": {
      "text/html": [
       "<div>\n",
       "<style scoped>\n",
       "    .dataframe tbody tr th:only-of-type {\n",
       "        vertical-align: middle;\n",
       "    }\n",
       "\n",
       "    .dataframe tbody tr th {\n",
       "        vertical-align: top;\n",
       "    }\n",
       "\n",
       "    .dataframe thead th {\n",
       "        text-align: right;\n",
       "    }\n",
       "</style>\n",
       "<table border=\"1\" class=\"dataframe\">\n",
       "  <thead>\n",
       "    <tr style=\"text-align: right;\">\n",
       "      <th></th>\n",
       "      <th>New</th>\n",
       "      <th>Subjectivity</th>\n",
       "      <th>Polarity</th>\n",
       "      <th>Score</th>\n",
       "      <th>Label</th>\n",
       "    </tr>\n",
       "  </thead>\n",
       "  <tbody>\n",
       "    <tr>\n",
       "      <th>0</th>\n",
       "      <td>wanda chasing doctor strange thru underground ...</td>\n",
       "      <td>0.150000</td>\n",
       "      <td>-0.050000</td>\n",
       "      <td>-1</td>\n",
       "      <td>Negative</td>\n",
       "    </tr>\n",
       "    <tr>\n",
       "      <th>1</th>\n",
       "      <td>official new multiverseofmadness posters docto...</td>\n",
       "      <td>0.454545</td>\n",
       "      <td>0.136364</td>\n",
       "      <td>1</td>\n",
       "      <td>Positive</td>\n",
       "    </tr>\n",
       "    <tr>\n",
       "      <th>2</th>\n",
       "      <td>new posters elizabeth olsen benedict cumberbat...</td>\n",
       "      <td>0.302273</td>\n",
       "      <td>0.043182</td>\n",
       "      <td>1</td>\n",
       "      <td>Positive</td>\n",
       "    </tr>\n",
       "    <tr>\n",
       "      <th>3</th>\n",
       "      <td>multiverseofmadness director sam raimi origina...</td>\n",
       "      <td>0.433333</td>\n",
       "      <td>0.041667</td>\n",
       "      <td>1</td>\n",
       "      <td>Positive</td>\n",
       "    </tr>\n",
       "    <tr>\n",
       "      <th>4</th>\n",
       "      <td>doctor strange best mcu origin film mile</td>\n",
       "      <td>0.225000</td>\n",
       "      <td>0.475000</td>\n",
       "      <td>1</td>\n",
       "      <td>Positive</td>\n",
       "    </tr>\n",
       "  </tbody>\n",
       "</table>\n",
       "</div>"
      ],
      "text/plain": [
       "                                                 New  Subjectivity  Polarity  \\\n",
       "0  wanda chasing doctor strange thru underground ...      0.150000 -0.050000   \n",
       "1  official new multiverseofmadness posters docto...      0.454545  0.136364   \n",
       "2  new posters elizabeth olsen benedict cumberbat...      0.302273  0.043182   \n",
       "3  multiverseofmadness director sam raimi origina...      0.433333  0.041667   \n",
       "4           doctor strange best mcu origin film mile      0.225000  0.475000   \n",
       "\n",
       "   Score     Label  \n",
       "0     -1  Negative  \n",
       "1      1  Positive  \n",
       "2      1  Positive  \n",
       "3      1  Positive  \n",
       "4      1  Positive  "
      ]
     },
     "execution_count": 128,
     "metadata": {},
     "output_type": "execute_result"
    }
   ],
   "source": [
    "data['Label'] = data['Score'].apply(getTextAnalysis)\n",
    "data.head()"
   ]
  },
  {
   "cell_type": "code",
   "execution_count": 129,
   "metadata": {},
   "outputs": [
    {
     "data": {
      "text/html": [
       "<div>\n",
       "<style scoped>\n",
       "    .dataframe tbody tr th:only-of-type {\n",
       "        vertical-align: middle;\n",
       "    }\n",
       "\n",
       "    .dataframe tbody tr th {\n",
       "        vertical-align: top;\n",
       "    }\n",
       "\n",
       "    .dataframe thead th {\n",
       "        text-align: right;\n",
       "    }\n",
       "</style>\n",
       "<table border=\"1\" class=\"dataframe\">\n",
       "  <thead>\n",
       "    <tr style=\"text-align: right;\">\n",
       "      <th></th>\n",
       "      <th>New</th>\n",
       "      <th>Subjectivity</th>\n",
       "      <th>Polarity</th>\n",
       "      <th>Score</th>\n",
       "      <th>Label</th>\n",
       "    </tr>\n",
       "  </thead>\n",
       "  <tbody>\n",
       "    <tr>\n",
       "      <th>995</th>\n",
       "      <td>love every universe doctor strangegrabe yuuuun</td>\n",
       "      <td>0.60</td>\n",
       "      <td>0.50</td>\n",
       "      <td>1</td>\n",
       "      <td>Positive</td>\n",
       "    </tr>\n",
       "    <tr>\n",
       "      <th>996</th>\n",
       "      <td>doctor strange stephen superhero eradoctor str...</td>\n",
       "      <td>0.15</td>\n",
       "      <td>-0.05</td>\n",
       "      <td>-1</td>\n",
       "      <td>Negative</td>\n",
       "    </tr>\n",
       "    <tr>\n",
       "      <th>997</th>\n",
       "      <td>benedict cumberbatch photographed doctor stran...</td>\n",
       "      <td>0.15</td>\n",
       "      <td>-0.05</td>\n",
       "      <td>-1</td>\n",
       "      <td>Negative</td>\n",
       "    </tr>\n",
       "    <tr>\n",
       "      <th>998</th>\n",
       "      <td>doctor strange multiverse madness</td>\n",
       "      <td>0.15</td>\n",
       "      <td>-0.05</td>\n",
       "      <td>-1</td>\n",
       "      <td>Negative</td>\n",
       "    </tr>\n",
       "    <tr>\n",
       "      <th>999</th>\n",
       "      <td>vast multiverse miss marvel studios doctorstra...</td>\n",
       "      <td>1.00</td>\n",
       "      <td>0.00</td>\n",
       "      <td>0</td>\n",
       "      <td>Neutral</td>\n",
       "    </tr>\n",
       "  </tbody>\n",
       "</table>\n",
       "</div>"
      ],
      "text/plain": [
       "                                                   New  Subjectivity  \\\n",
       "995     love every universe doctor strangegrabe yuuuun          0.60   \n",
       "996  doctor strange stephen superhero eradoctor str...          0.15   \n",
       "997  benedict cumberbatch photographed doctor stran...          0.15   \n",
       "998                  doctor strange multiverse madness          0.15   \n",
       "999  vast multiverse miss marvel studios doctorstra...          1.00   \n",
       "\n",
       "     Polarity  Score     Label  \n",
       "995      0.50      1  Positive  \n",
       "996     -0.05     -1  Negative  \n",
       "997     -0.05     -1  Negative  \n",
       "998     -0.05     -1  Negative  \n",
       "999      0.00      0   Neutral  "
      ]
     },
     "execution_count": 129,
     "metadata": {},
     "output_type": "execute_result"
    }
   ],
   "source": [
    "data.tail()"
   ]
  },
  {
   "cell_type": "markdown",
   "metadata": {},
   "source": [
    "mari kita lihat perbandingan sentimennya"
   ]
  },
  {
   "cell_type": "code",
   "execution_count": 235,
   "metadata": {
    "collapsed": true
   },
   "outputs": [],
   "source": [
    "data = data.drop('Count', axis=1)"
   ]
  },
  {
   "cell_type": "code",
   "execution_count": 236,
   "metadata": {},
   "outputs": [
    {
     "data": {
      "text/plain": [
       "Label\n",
       "Negative    446\n",
       "Neutral     197\n",
       "Positive    357\n",
       "dtype: int64"
      ]
     },
     "execution_count": 236,
     "metadata": {},
     "output_type": "execute_result"
    }
   ],
   "source": [
    "labels = data.groupby('Label').size()\n",
    "labels"
   ]
  },
  {
   "cell_type": "code",
   "execution_count": 237,
   "metadata": {},
   "outputs": [
    {
     "data": {
      "text/plain": [
       "<AxesSubplot:title={'center':'Hasil Sentimen w/ Judul'}, xlabel='Sentimen', ylabel='Jumlah Tweet'>"
      ]
     },
     "execution_count": 237,
     "metadata": {},
     "output_type": "execute_result"
    },
    {
     "data": {
      "image/png": "[encoded data removed]",
      "text/plain": [
       "<Figure size 432x360 with 1 Axes>"
      ]
     },
     "metadata": {
      "needs_background": "light"
     },
     "output_type": "display_data"
    }
   ],
   "source": [
    "labels.plot(kind='bar', title='Hasil Sentimen w/ Judul', ylabel='Jumlah Tweet',\n",
    "           xlabel='Sentimen', figsize=(6, 5))"
   ]
  },
  {
   "cell_type": "markdown",
   "metadata": {},
   "source": [
    "oke, terlihat dari bar chart diatas tweet yang mengandung muatan positif mengenai 'doctor strange' tidak lebih banyak (357 tweet) dibandingkan dengan tweet yang bermuatan negatif (446 tweet).  \n",
    "sedangkan tweet yang bermuatan netral jumlahnya paling sedikit (197 tweet).  \n",
    "tapi tunggu dulu..  \n",
    "lihat ini.."
   ]
  },
  {
   "cell_type": "code",
   "execution_count": 153,
   "metadata": {},
   "outputs": [
    {
     "data": {
      "text/plain": [
       "New             doctor strange multiverse madness\n",
       "Subjectivity                                 0.15\n",
       "Polarity                                    -0.05\n",
       "Score                                          -1\n",
       "Label                                    Negative\n",
       "Count                                           1\n",
       "Name: 998, dtype: object"
      ]
     },
     "execution_count": 153,
     "metadata": {},
     "output_type": "execute_result"
    }
   ],
   "source": [
    "data.loc[998]"
   ]
  },
  {
   "cell_type": "markdown",
   "metadata": {},
   "source": [
    "bukankan tweet tersebut hanya mengandung judul filmnya?  \n",
    "  \n",
    "ya, hasil polaritas yang didapat menunjukan bahwa tweet yang mengandung judul film yaitu **'doctor strange: in the multiverse of madness'** sudah dinilai mengandung muatan negatif.  \n",
    "karena susunan kata tersebut memang merupakan pernyataan yang bersifat negatif.  \n",
    "**strange** dan **madness** adalah dua kata yang bermuatan negatif."
   ]
  },
  {
   "cell_type": "markdown",
   "metadata": {},
   "source": [
    "jadi?  \n",
    "  \n",
    "salah satu solusi yang bisa diterapkan adalah dengan membersihkan kata-kata **madness** dan **strange** dalam setiap kalimat/tweet."
   ]
  },
  {
   "cell_type": "markdown",
   "metadata": {},
   "source": [
    "### **OK mari kita coba**"
   ]
  },
  {
   "cell_type": "markdown",
   "metadata": {},
   "source": [
    "hasil analisis dari data pertama kita biarkan, kita buat dataframe baru dengan mengcopy data sebelumnya untuk menampung hasil percobaan."
   ]
  },
  {
   "cell_type": "code",
   "execution_count": 238,
   "metadata": {
    "collapsed": true
   },
   "outputs": [],
   "source": [
    "data2 = data.copy()"
   ]
  },
  {
   "cell_type": "code",
   "execution_count": 239,
   "metadata": {
    "collapsed": true
   },
   "outputs": [],
   "source": [
    "data2['Clean'] = data2.apply(CleanTitle, axis=1)"
   ]
  },
  {
   "cell_type": "code",
   "execution_count": 241,
   "metadata": {
    "collapsed": true
   },
   "outputs": [],
   "source": [
    "data2 = data2.drop(['Subjectivity', 'Polarity', 'Score', 'Label'], axis=1)"
   ]
  },
  {
   "cell_type": "code",
   "execution_count": 242,
   "metadata": {},
   "outputs": [
    {
     "data": {
      "text/html": [
       "<div>\n",
       "<style scoped>\n",
       "    .dataframe tbody tr th:only-of-type {\n",
       "        vertical-align: middle;\n",
       "    }\n",
       "\n",
       "    .dataframe tbody tr th {\n",
       "        vertical-align: top;\n",
       "    }\n",
       "\n",
       "    .dataframe thead th {\n",
       "        text-align: right;\n",
       "    }\n",
       "</style>\n",
       "<table border=\"1\" class=\"dataframe\">\n",
       "  <thead>\n",
       "    <tr style=\"text-align: right;\">\n",
       "      <th></th>\n",
       "      <th>New</th>\n",
       "      <th>Clean</th>\n",
       "    </tr>\n",
       "  </thead>\n",
       "  <tbody>\n",
       "    <tr>\n",
       "      <th>0</th>\n",
       "      <td>wanda chasing doctor strange thru underground ...</td>\n",
       "      <td>wanda chasing doctor   thru underground corridor</td>\n",
       "    </tr>\n",
       "    <tr>\n",
       "      <th>1</th>\n",
       "      <td>official new multiverseofmadness posters docto...</td>\n",
       "      <td>official new multiverseof  posters doctor  amp...</td>\n",
       "    </tr>\n",
       "    <tr>\n",
       "      <th>2</th>\n",
       "      <td>new posters elizabeth olsen benedict cumberbat...</td>\n",
       "      <td>new posters elizabeth olsen benedict cumberbat...</td>\n",
       "    </tr>\n",
       "    <tr>\n",
       "      <th>3</th>\n",
       "      <td>multiverseofmadness director sam raimi origina...</td>\n",
       "      <td>multiverseof  director sam raimi originally wa...</td>\n",
       "    </tr>\n",
       "    <tr>\n",
       "      <th>4</th>\n",
       "      <td>doctor strange best mcu origin film mile</td>\n",
       "      <td>doctor   best mcu origin film mile</td>\n",
       "    </tr>\n",
       "  </tbody>\n",
       "</table>\n",
       "</div>"
      ],
      "text/plain": [
       "                                                 New  \\\n",
       "0  wanda chasing doctor strange thru underground ...   \n",
       "1  official new multiverseofmadness posters docto...   \n",
       "2  new posters elizabeth olsen benedict cumberbat...   \n",
       "3  multiverseofmadness director sam raimi origina...   \n",
       "4           doctor strange best mcu origin film mile   \n",
       "\n",
       "                                               Clean  \n",
       "0   wanda chasing doctor   thru underground corridor  \n",
       "1  official new multiverseof  posters doctor  amp...  \n",
       "2  new posters elizabeth olsen benedict cumberbat...  \n",
       "3  multiverseof  director sam raimi originally wa...  \n",
       "4                 doctor   best mcu origin film mile  "
      ]
     },
     "execution_count": 242,
     "metadata": {},
     "output_type": "execute_result"
    }
   ],
   "source": [
    "data2.head()"
   ]
  },
  {
   "cell_type": "code",
   "execution_count": 243,
   "metadata": {},
   "outputs": [
    {
     "data": {
      "text/html": [
       "<div>\n",
       "<style scoped>\n",
       "    .dataframe tbody tr th:only-of-type {\n",
       "        vertical-align: middle;\n",
       "    }\n",
       "\n",
       "    .dataframe tbody tr th {\n",
       "        vertical-align: top;\n",
       "    }\n",
       "\n",
       "    .dataframe thead th {\n",
       "        text-align: right;\n",
       "    }\n",
       "</style>\n",
       "<table border=\"1\" class=\"dataframe\">\n",
       "  <thead>\n",
       "    <tr style=\"text-align: right;\">\n",
       "      <th></th>\n",
       "      <th>New</th>\n",
       "      <th>Clean</th>\n",
       "    </tr>\n",
       "  </thead>\n",
       "  <tbody>\n",
       "    <tr>\n",
       "      <th>995</th>\n",
       "      <td>love every universe doctor strangegrabe yuuuun</td>\n",
       "      <td>love every universe doctor  grabe yuuuun</td>\n",
       "    </tr>\n",
       "    <tr>\n",
       "      <th>996</th>\n",
       "      <td>doctor strange stephen superhero eradoctor str...</td>\n",
       "      <td>doctor   stephen superhero eradoctor   stephen...</td>\n",
       "    </tr>\n",
       "    <tr>\n",
       "      <th>997</th>\n",
       "      <td>benedict cumberbatch photographed doctor stran...</td>\n",
       "      <td>benedict cumberbatch photographed doctor   pro...</td>\n",
       "    </tr>\n",
       "    <tr>\n",
       "      <th>998</th>\n",
       "      <td>doctor strange multiverse madness</td>\n",
       "      <td>doctor   multiverse</td>\n",
       "    </tr>\n",
       "    <tr>\n",
       "      <th>999</th>\n",
       "      <td>vast multiverse miss marvel studios doctorstra...</td>\n",
       "      <td>vast multiverse miss marvel studios doctor  mu...</td>\n",
       "    </tr>\n",
       "  </tbody>\n",
       "</table>\n",
       "</div>"
      ],
      "text/plain": [
       "                                                   New  \\\n",
       "995     love every universe doctor strangegrabe yuuuun   \n",
       "996  doctor strange stephen superhero eradoctor str...   \n",
       "997  benedict cumberbatch photographed doctor stran...   \n",
       "998                  doctor strange multiverse madness   \n",
       "999  vast multiverse miss marvel studios doctorstra...   \n",
       "\n",
       "                                                 Clean  \n",
       "995           love every universe doctor  grabe yuuuun  \n",
       "996  doctor   stephen superhero eradoctor   stephen...  \n",
       "997  benedict cumberbatch photographed doctor   pro...  \n",
       "998                              doctor   multiverse    \n",
       "999  vast multiverse miss marvel studios doctor  mu...  "
      ]
     },
     "execution_count": 243,
     "metadata": {},
     "output_type": "execute_result"
    }
   ],
   "source": [
    "data2.tail()"
   ]
  },
  {
   "cell_type": "markdown",
   "metadata": {},
   "source": [
    "mari kita lihat adakah **perubahan** pada nilai polaritas dan subjektivitasnya..?"
   ]
  },
  {
   "cell_type": "code",
   "execution_count": 244,
   "metadata": {
    "collapsed": true
   },
   "outputs": [],
   "source": [
    "data2['Subjectivity'] = data2['Clean'].apply(getTextSubjectivity)\n",
    "data2['Polarity'] = data2['Clean'].apply(getTextPolarity)\n",
    "data2['Score'] = data2['Polarity'].apply(getScore)\n",
    "data2['Label'] = data2['Score'].apply(getTextAnalysis)"
   ]
  },
  {
   "cell_type": "code",
   "execution_count": 245,
   "metadata": {},
   "outputs": [
    {
     "data": {
      "text/html": [
       "<div>\n",
       "<style scoped>\n",
       "    .dataframe tbody tr th:only-of-type {\n",
       "        vertical-align: middle;\n",
       "    }\n",
       "\n",
       "    .dataframe tbody tr th {\n",
       "        vertical-align: top;\n",
       "    }\n",
       "\n",
       "    .dataframe thead th {\n",
       "        text-align: right;\n",
       "    }\n",
       "</style>\n",
       "<table border=\"1\" class=\"dataframe\">\n",
       "  <thead>\n",
       "    <tr style=\"text-align: right;\">\n",
       "      <th></th>\n",
       "      <th>New</th>\n",
       "      <th>Clean</th>\n",
       "      <th>Subjectivity</th>\n",
       "      <th>Polarity</th>\n",
       "      <th>Score</th>\n",
       "      <th>Label</th>\n",
       "    </tr>\n",
       "  </thead>\n",
       "  <tbody>\n",
       "    <tr>\n",
       "      <th>0</th>\n",
       "      <td>wanda chasing doctor strange thru underground ...</td>\n",
       "      <td>wanda chasing doctor   thru underground corridor</td>\n",
       "      <td>0.000000</td>\n",
       "      <td>0.000000</td>\n",
       "      <td>0</td>\n",
       "      <td>Neutral</td>\n",
       "    </tr>\n",
       "    <tr>\n",
       "      <th>1</th>\n",
       "      <td>official new multiverseofmadness posters docto...</td>\n",
       "      <td>official new multiverseof  posters doctor  amp...</td>\n",
       "      <td>0.454545</td>\n",
       "      <td>0.136364</td>\n",
       "      <td>1</td>\n",
       "      <td>Positive</td>\n",
       "    </tr>\n",
       "    <tr>\n",
       "      <th>2</th>\n",
       "      <td>new posters elizabeth olsen benedict cumberbat...</td>\n",
       "      <td>new posters elizabeth olsen benedict cumberbat...</td>\n",
       "      <td>0.454545</td>\n",
       "      <td>0.136364</td>\n",
       "      <td>1</td>\n",
       "      <td>Positive</td>\n",
       "    </tr>\n",
       "    <tr>\n",
       "      <th>3</th>\n",
       "      <td>multiverseofmadness director sam raimi origina...</td>\n",
       "      <td>multiverseof  director sam raimi originally wa...</td>\n",
       "      <td>0.575000</td>\n",
       "      <td>0.087500</td>\n",
       "      <td>1</td>\n",
       "      <td>Positive</td>\n",
       "    </tr>\n",
       "    <tr>\n",
       "      <th>4</th>\n",
       "      <td>doctor strange best mcu origin film mile</td>\n",
       "      <td>doctor   best mcu origin film mile</td>\n",
       "      <td>0.300000</td>\n",
       "      <td>1.000000</td>\n",
       "      <td>1</td>\n",
       "      <td>Positive</td>\n",
       "    </tr>\n",
       "  </tbody>\n",
       "</table>\n",
       "</div>"
      ],
      "text/plain": [
       "                                                 New  \\\n",
       "0  wanda chasing doctor strange thru underground ...   \n",
       "1  official new multiverseofmadness posters docto...   \n",
       "2  new posters elizabeth olsen benedict cumberbat...   \n",
       "3  multiverseofmadness director sam raimi origina...   \n",
       "4           doctor strange best mcu origin film mile   \n",
       "\n",
       "                                               Clean  Subjectivity  Polarity  \\\n",
       "0   wanda chasing doctor   thru underground corridor      0.000000  0.000000   \n",
       "1  official new multiverseof  posters doctor  amp...      0.454545  0.136364   \n",
       "2  new posters elizabeth olsen benedict cumberbat...      0.454545  0.136364   \n",
       "3  multiverseof  director sam raimi originally wa...      0.575000  0.087500   \n",
       "4                 doctor   best mcu origin film mile      0.300000  1.000000   \n",
       "\n",
       "   Score     Label  \n",
       "0      0   Neutral  \n",
       "1      1  Positive  \n",
       "2      1  Positive  \n",
       "3      1  Positive  \n",
       "4      1  Positive  "
      ]
     },
     "execution_count": 245,
     "metadata": {},
     "output_type": "execute_result"
    }
   ],
   "source": [
    "data2.head()"
   ]
  },
  {
   "cell_type": "code",
   "execution_count": 246,
   "metadata": {},
   "outputs": [
    {
     "data": {
      "text/html": [
       "<div>\n",
       "<style scoped>\n",
       "    .dataframe tbody tr th:only-of-type {\n",
       "        vertical-align: middle;\n",
       "    }\n",
       "\n",
       "    .dataframe tbody tr th {\n",
       "        vertical-align: top;\n",
       "    }\n",
       "\n",
       "    .dataframe thead th {\n",
       "        text-align: right;\n",
       "    }\n",
       "</style>\n",
       "<table border=\"1\" class=\"dataframe\">\n",
       "  <thead>\n",
       "    <tr style=\"text-align: right;\">\n",
       "      <th></th>\n",
       "      <th>New</th>\n",
       "      <th>Clean</th>\n",
       "      <th>Subjectivity</th>\n",
       "      <th>Polarity</th>\n",
       "      <th>Score</th>\n",
       "      <th>Label</th>\n",
       "    </tr>\n",
       "  </thead>\n",
       "  <tbody>\n",
       "    <tr>\n",
       "      <th>995</th>\n",
       "      <td>love every universe doctor strangegrabe yuuuun</td>\n",
       "      <td>love every universe doctor  grabe yuuuun</td>\n",
       "      <td>0.6</td>\n",
       "      <td>0.5</td>\n",
       "      <td>1</td>\n",
       "      <td>Positive</td>\n",
       "    </tr>\n",
       "    <tr>\n",
       "      <th>996</th>\n",
       "      <td>doctor strange stephen superhero eradoctor str...</td>\n",
       "      <td>doctor   stephen superhero eradoctor   stephen...</td>\n",
       "      <td>0.0</td>\n",
       "      <td>0.0</td>\n",
       "      <td>0</td>\n",
       "      <td>Neutral</td>\n",
       "    </tr>\n",
       "    <tr>\n",
       "      <th>997</th>\n",
       "      <td>benedict cumberbatch photographed doctor stran...</td>\n",
       "      <td>benedict cumberbatch photographed doctor   pro...</td>\n",
       "      <td>0.0</td>\n",
       "      <td>0.0</td>\n",
       "      <td>0</td>\n",
       "      <td>Neutral</td>\n",
       "    </tr>\n",
       "    <tr>\n",
       "      <th>998</th>\n",
       "      <td>doctor strange multiverse madness</td>\n",
       "      <td>doctor   multiverse</td>\n",
       "      <td>0.0</td>\n",
       "      <td>0.0</td>\n",
       "      <td>0</td>\n",
       "      <td>Neutral</td>\n",
       "    </tr>\n",
       "    <tr>\n",
       "      <th>999</th>\n",
       "      <td>vast multiverse miss marvel studios doctorstra...</td>\n",
       "      <td>vast multiverse miss marvel studios doctor  mu...</td>\n",
       "      <td>1.0</td>\n",
       "      <td>0.0</td>\n",
       "      <td>0</td>\n",
       "      <td>Neutral</td>\n",
       "    </tr>\n",
       "  </tbody>\n",
       "</table>\n",
       "</div>"
      ],
      "text/plain": [
       "                                                   New  \\\n",
       "995     love every universe doctor strangegrabe yuuuun   \n",
       "996  doctor strange stephen superhero eradoctor str...   \n",
       "997  benedict cumberbatch photographed doctor stran...   \n",
       "998                  doctor strange multiverse madness   \n",
       "999  vast multiverse miss marvel studios doctorstra...   \n",
       "\n",
       "                                                 Clean  Subjectivity  \\\n",
       "995           love every universe doctor  grabe yuuuun           0.6   \n",
       "996  doctor   stephen superhero eradoctor   stephen...           0.0   \n",
       "997  benedict cumberbatch photographed doctor   pro...           0.0   \n",
       "998                              doctor   multiverse             0.0   \n",
       "999  vast multiverse miss marvel studios doctor  mu...           1.0   \n",
       "\n",
       "     Polarity  Score     Label  \n",
       "995       0.5      1  Positive  \n",
       "996       0.0      0   Neutral  \n",
       "997       0.0      0   Neutral  \n",
       "998       0.0      0   Neutral  \n",
       "999       0.0      0   Neutral  "
      ]
     },
     "execution_count": 246,
     "metadata": {},
     "output_type": "execute_result"
    }
   ],
   "source": [
    "data2.tail()"
   ]
  },
  {
   "cell_type": "code",
   "execution_count": 247,
   "metadata": {},
   "outputs": [
    {
     "data": {
      "text/plain": [
       "Label\n",
       "Negative     68\n",
       "Neutral     575\n",
       "Positive    357\n",
       "dtype: int64"
      ]
     },
     "execution_count": 247,
     "metadata": {},
     "output_type": "execute_result"
    }
   ],
   "source": [
    "labels2 = data2.groupby('Label').size()\n",
    "labels2"
   ]
  },
  {
   "cell_type": "code",
   "execution_count": 248,
   "metadata": {},
   "outputs": [
    {
     "data": {
      "text/plain": [
       "<AxesSubplot:title={'center':'Hasil Sentimen w/o Judul'}, xlabel='Sentimen', ylabel='Jumlah Tweet'>"
      ]
     },
     "execution_count": 248,
     "metadata": {},
     "output_type": "execute_result"
    },
    {
     "data": {
      "image/png": "[encoded data removed]",
      "text/plain": [
       "<Figure size 432x360 with 1 Axes>"
      ]
     },
     "metadata": {
      "needs_background": "light"
     },
     "output_type": "display_data"
    }
   ],
   "source": [
    "labels2.plot(kind='bar', title='Hasil Sentimen w/o Judul', ylabel='Jumlah Tweet',\n",
    "           xlabel='Sentimen', figsize=(6, 5))"
   ]
  },
  {
   "cell_type": "markdown",
   "metadata": {},
   "source": [
    "**WOW** mencengangkan**!!**"
   ]
  },
  {
   "cell_type": "markdown",
   "metadata": {},
   "source": [
    "mari kita bandingkan lebih dekat"
   ]
  },
  {
   "cell_type": "code",
   "execution_count": 249,
   "metadata": {},
   "outputs": [
    {
     "name": "stdout",
     "output_type": "stream",
     "text": [
      "Label\n",
      "Negative    446\n",
      "Neutral     197\n",
      "Positive    357\n",
      "dtype: int64\n",
      "Label\n",
      "Negative     68\n",
      "Neutral     575\n",
      "Positive    357\n",
      "dtype: int64\n"
     ]
    }
   ],
   "source": [
    "print(labels)\n",
    "print(labels2)"
   ]
  },
  {
   "cell_type": "code",
   "execution_count": 288,
   "metadata": {},
   "outputs": [
    {
     "data": {
      "image/png": "[encoded data removed]",
      "text/plain": [
       "<Figure size 432x288 with 1 Axes>"
      ]
     },
     "metadata": {
      "needs_background": "light"
     },
     "output_type": "display_data"
    }
   ],
   "source": []
  },
  {
   "cell_type": "markdown",
   "metadata": {},
   "source": [
    "terlihat bahwa jumlah sentimen bermuatan:  \n",
    "**negatif** berkurang dari **446** tweet menjadi **68** tweet (-378)  \n",
    "**netral** bertambah dari **197** tweet menjadi **575** tweet (+378)  \n",
    "**positif** *stagnan*, tidak bertambah atau berkurang  \n",
    "  \n",
    "jadi dapat disimpulkan bahwa dengan mengeliminasi kata-kata bermuatan negatif **madness, strange** yang termuat dalam judul film, akan mempengaruhi hasil penilaian polarity dan pelabelan pada setiap kalimat/tweet.  \n",
    "hal tersebut menjadikan **378** tweet yang tadinya berlabel *negatif* berubah menjadi berlabel *netral*.  \n",
    "  \n",
    "    \n",
    "***hasil analisis terhadap 1000 tweet*"
   ]
  },
  {
   "cell_type": "markdown",
   "metadata": {},
   "source": [
    "**JADI ...**  \n",
    "saat melakukan analisis sentimen, kita juga harus memperhatikan susunan kata yang terkandung dalam kalimat yang akan dianalisis.  \n",
    "karena setiap kata yang memiliki nilai *polaritas* (positif atau negatif) akan mempengaruhi hasil penilaian sentimen.  \n",
    "meskipun pada kenyataannya kata tersebut seharusnya bukan bagian dari penilaian, melainkan objek yang akan dianalisis (hanya bagian dari judul atau merek atau yang lainnya).  \n",
    "  "
   ]
  },
  {
   "cell_type": "markdown",
   "metadata": {},
   "source": [
    "selanjutnya, mari kita lihat berapa perbandingan antara tweet yang berupa *fakta* dan *opini*"
   ]
  },
  {
   "cell_type": "code",
   "execution_count": 251,
   "metadata": {
    "collapsed": true
   },
   "outputs": [],
   "source": [
    "data3 = data2.copy()"
   ]
  },
  {
   "cell_type": "code",
   "execution_count": 252,
   "metadata": {
    "collapsed": true
   },
   "outputs": [],
   "source": [
    "data3['Type'] = data3['Subjectivity'].apply(getTextType)"
   ]
  },
  {
   "cell_type": "code",
   "execution_count": 59,
   "metadata": {},
   "outputs": [
    {
     "data": {
      "text/html": [
       "<div>\n",
       "<style scoped>\n",
       "    .dataframe tbody tr th:only-of-type {\n",
       "        vertical-align: middle;\n",
       "    }\n",
       "\n",
       "    .dataframe tbody tr th {\n",
       "        vertical-align: top;\n",
       "    }\n",
       "\n",
       "    .dataframe thead th {\n",
       "        text-align: right;\n",
       "    }\n",
       "</style>\n",
       "<table border=\"1\" class=\"dataframe\">\n",
       "  <thead>\n",
       "    <tr style=\"text-align: right;\">\n",
       "      <th></th>\n",
       "      <th>New</th>\n",
       "      <th>Clean</th>\n",
       "      <th>Subjectivity</th>\n",
       "      <th>Polarity</th>\n",
       "      <th>Score</th>\n",
       "      <th>Label</th>\n",
       "      <th>Type</th>\n",
       "      <th>Type-Label</th>\n",
       "      <th>Class</th>\n",
       "    </tr>\n",
       "  </thead>\n",
       "  <tbody>\n",
       "    <tr>\n",
       "      <th>0</th>\n",
       "      <td>wanda chasing doctor strange thru underground ...</td>\n",
       "      <td>wanda chasing doctor   thru underground corridor</td>\n",
       "      <td>0.000000</td>\n",
       "      <td>0.000000</td>\n",
       "      <td>0</td>\n",
       "      <td>Neutral</td>\n",
       "      <td>Fact</td>\n",
       "      <td>Fact-Neutral</td>\n",
       "      <td>1</td>\n",
       "    </tr>\n",
       "    <tr>\n",
       "      <th>1</th>\n",
       "      <td>official new multiverseofmadness posters docto...</td>\n",
       "      <td>official new multiverseof  posters doctor  amp...</td>\n",
       "      <td>0.454545</td>\n",
       "      <td>0.136364</td>\n",
       "      <td>1</td>\n",
       "      <td>Positive</td>\n",
       "      <td>Fact</td>\n",
       "      <td>Fact-Positive</td>\n",
       "      <td>1</td>\n",
       "    </tr>\n",
       "    <tr>\n",
       "      <th>2</th>\n",
       "      <td>new posters elizabeth olsen benedict cumberbat...</td>\n",
       "      <td>new posters elizabeth olsen benedict cumberbat...</td>\n",
       "      <td>0.454545</td>\n",
       "      <td>0.136364</td>\n",
       "      <td>1</td>\n",
       "      <td>Positive</td>\n",
       "      <td>Fact</td>\n",
       "      <td>Fact-Positive</td>\n",
       "      <td>1</td>\n",
       "    </tr>\n",
       "    <tr>\n",
       "      <th>3</th>\n",
       "      <td>multiverseofmadness director sam raimi origina...</td>\n",
       "      <td>multiverseof  director sam raimi originally wa...</td>\n",
       "      <td>0.575000</td>\n",
       "      <td>0.087500</td>\n",
       "      <td>1</td>\n",
       "      <td>Positive</td>\n",
       "      <td>Opinion</td>\n",
       "      <td>Opinion-Positive</td>\n",
       "      <td>1</td>\n",
       "    </tr>\n",
       "    <tr>\n",
       "      <th>4</th>\n",
       "      <td>doctor strange best mcu origin film mile</td>\n",
       "      <td>doctor   best mcu origin film mile</td>\n",
       "      <td>0.300000</td>\n",
       "      <td>1.000000</td>\n",
       "      <td>1</td>\n",
       "      <td>Positive</td>\n",
       "      <td>Fact</td>\n",
       "      <td>Fact-Positive</td>\n",
       "      <td>1</td>\n",
       "    </tr>\n",
       "  </tbody>\n",
       "</table>\n",
       "</div>"
      ],
      "text/plain": [
       "                                                 New  \\\n",
       "0  wanda chasing doctor strange thru underground ...   \n",
       "1  official new multiverseofmadness posters docto...   \n",
       "2  new posters elizabeth olsen benedict cumberbat...   \n",
       "3  multiverseofmadness director sam raimi origina...   \n",
       "4           doctor strange best mcu origin film mile   \n",
       "\n",
       "                                               Clean  Subjectivity  Polarity  \\\n",
       "0   wanda chasing doctor   thru underground corridor      0.000000  0.000000   \n",
       "1  official new multiverseof  posters doctor  amp...      0.454545  0.136364   \n",
       "2  new posters elizabeth olsen benedict cumberbat...      0.454545  0.136364   \n",
       "3  multiverseof  director sam raimi originally wa...      0.575000  0.087500   \n",
       "4                 doctor   best mcu origin film mile      0.300000  1.000000   \n",
       "\n",
       "   Score     Label     Type        Type-Label  Class  \n",
       "0      0   Neutral     Fact      Fact-Neutral      1  \n",
       "1      1  Positive     Fact     Fact-Positive      1  \n",
       "2      1  Positive     Fact     Fact-Positive      1  \n",
       "3      1  Positive  Opinion  Opinion-Positive      1  \n",
       "4      1  Positive     Fact     Fact-Positive      1  "
      ]
     },
     "execution_count": 59,
     "metadata": {},
     "output_type": "execute_result"
    }
   ],
   "source": [
    "data3.head()"
   ]
  },
  {
   "cell_type": "code",
   "execution_count": 25,
   "metadata": {},
   "outputs": [
    {
     "name": "stdout",
     "output_type": "stream",
     "text": [
      "Type\n",
      "Fact       621\n",
      "Opinion    379\n",
      "dtype: int64\n"
     ]
    },
    {
     "data": {
      "text/plain": [
       "<AxesSubplot:title={'center':'Hasil Subjektivitas w/o Judul'}, xlabel='Subjektivitas', ylabel='Jumlah Tweet'>"
      ]
     },
     "execution_count": 25,
     "metadata": {},
     "output_type": "execute_result"
    },
    {
     "data": {
      "image/png": "[encoded data removed]",
      "text/plain": [
       "<Figure size 360x360 with 1 Axes>"
      ]
     },
     "metadata": {
      "needs_background": "light"
     },
     "output_type": "display_data"
    }
   ],
   "source": [
    "tweet_type = data3.groupby('Type').size()\n",
    "print(tweet_type)\n",
    "\n",
    "tweet_type.plot(kind='bar', title='Hasil Subjektivitas w/o Judul', ylabel='Jumlah Tweet',\n",
    "           xlabel='Subjektivitas', figsize=(5, 5))"
   ]
  },
  {
   "cell_type": "code",
   "execution_count": 26,
   "metadata": {},
   "outputs": [
    {
     "data": {
      "text/plain": [
       "Type     Label   \n",
       "Fact     Neutral     416\n",
       "         Positive    192\n",
       "         Negative     13\n",
       "Opinion  Positive    165\n",
       "         Neutral     159\n",
       "         Negative     55\n",
       "Name: Label, dtype: int64"
      ]
     },
     "execution_count": 26,
     "metadata": {},
     "output_type": "execute_result"
    }
   ],
   "source": [
    "types = data3.groupby('Type')['Label'].value_counts()\n",
    "types"
   ]
  },
  {
   "cell_type": "code",
   "execution_count": 27,
   "metadata": {
    "scrolled": true
   },
   "outputs": [
    {
     "data": {
      "text/plain": [
       "<AxesSubplot:title={'center':'Hasil Sentimen w/o Judul berdasarkan Subjektivitas'}, ylabel='Sentimen'>"
      ]
     },
     "execution_count": 27,
     "metadata": {},
     "output_type": "execute_result"
    },
    {
     "data": {
      "image/png": "[encoded data removed]",
      "text/plain": [
       "<Figure size 432x360 with 1 Axes>"
      ]
     },
     "metadata": {
      "needs_background": "light"
     },
     "output_type": "display_data"
    }
   ],
   "source": [
    "types.sort_values().plot(kind='barh', title='Hasil Sentimen w/o Judul berdasarkan Subjektivitas', ylabel='Jumlah Tweet',\n",
    "           xlabel='Sentimen', figsize=(6, 5))"
   ]
  },
  {
   "cell_type": "markdown",
   "metadata": {},
   "source": [
    "dari bar chart diatas dapat dilihat:  \n",
    "tweet yang berisi **fakta** dan bersifat **netral** adalah tweet yang paling banyak dicuitkan oleh tweetizen  \n",
    "tweet yang berisi **fakta** dan bersifat **negatif** adalah tweet yang paling sedikit dicuitkan oleh tweetizen\n",
    "\n",
    "***hasil analisis terhadap 1000 tweet*"
   ]
  },
  {
   "cell_type": "code",
   "execution_count": 302,
   "metadata": {
    "collapsed": true
   },
   "outputs": [],
   "source": [
    "fac = data3[data3['Type'] == 'Fact'].groupby(['Type', 'Label']).size().reset_index(name='count')\n",
    "opi = data3[data3['Type'] == 'Opinion'].groupby(['Type', 'Label']).size().reset_index(name='count')"
   ]
  },
  {
   "cell_type": "code",
   "execution_count": 33,
   "metadata": {},
   "outputs": [
    {
     "data": {
      "image/png": "[encoded data removed]",
      "text/plain": [
       "<Figure size 432x288 with 1 Axes>"
      ]
     },
     "metadata": {
      "needs_background": "light"
     },
     "output_type": "display_data"
    }
   ],
   "source": []
  },
  {
   "cell_type": "code",
   "execution_count": 252,
   "metadata": {
    "scrolled": false
   },
   "outputs": [
    {
     "data": {
      "text/plain": [
       "<matplotlib.collections.LineCollection at 0x1d5997febe0>"
      ]
     },
     "execution_count": 252,
     "metadata": {},
     "output_type": "execute_result"
    },
    {
     "data": {
      "image/png": "[encoded data removed]",
      "text/plain": [
       "<Figure size 576x432 with 1 Axes>"
      ]
     },
     "metadata": {
      "needs_background": "light"
     },
     "output_type": "display_data"
    },
    {
     "data": {
      "image/png": "[encoded data removed]",
      "text/plain": [
       "<Figure size 576x432 with 1 Axes>"
      ]
     },
     "metadata": {
      "needs_background": "light"
     },
     "output_type": "display_data"
    }
   ],
   "source": []
  },
  {
   "cell_type": "markdown",
   "metadata": {},
   "source": [
    "distribusi polaritas keduanya memiliki kemiringan data ke arah kanan (*positif*)."
   ]
  },
  {
   "cell_type": "code",
   "execution_count": 34,
   "metadata": {},
   "outputs": [
    {
     "data": {
      "text/plain": [
       "<matplotlib.collections.LineCollection at 0x1e4026b0f98>"
      ]
     },
     "execution_count": 34,
     "metadata": {},
     "output_type": "execute_result"
    },
    {
     "data": {
      "image/png": "[encoded data removed]",
      "text/plain": [
       "<Figure size 432x288 with 1 Axes>"
      ]
     },
     "metadata": {
      "needs_background": "light"
     },
     "output_type": "display_data"
    },
    {
     "data": {
      "image/png": "[encoded data removed]",
      "text/plain": [
       "<Figure size 432x288 with 1 Axes>"
      ]
     },
     "metadata": {
      "needs_background": "light"
     },
     "output_type": "display_data"
    }
   ],
   "source": []
  },
  {
   "cell_type": "code",
   "execution_count": 83,
   "metadata": {},
   "outputs": [
    {
     "data": {
      "image/png": "[encoded data removed]",
      "text/plain": [
       "<PIL.PngImagePlugin.PngImageFile image mode=RGBA size=512x480 at 0x1E402FE27F0>"
      ]
     },
     "metadata": {},
     "output_type": "display_data"
    }
   ],
   "source": []
  },
  {
   "cell_type": "markdown",
   "metadata": {},
   "source": [
    "sekian dan terima kasih, semoga bermanfaat    \n",
    "  \n",
    "salam,  \n",
    "*note: full-code is available on my private respository*  \n",
    "*remember: the reviews are prone to bias (self-selection bias)*"
   ]
  }
 ],
 "metadata": {
  "kernelspec": {
   "display_name": "Python 3",
   "language": "python",
   "name": "python3"
  },
  "language_info": {
   "codemirror_mode": {
    "name": "ipython",
    "version": 3
   },
   "file_extension": ".py",
   "mimetype": "text/x-python",
   "name": "python",
   "nbconvert_exporter": "python",
   "pygments_lexer": "ipython3",
   "version": "3.7.0"
  }
 },
 "nbformat": 4,
 "nbformat_minor": 2
}
